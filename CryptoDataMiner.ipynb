{
 "cells": [
  {
   "cell_type": "markdown",
   "metadata": {},
   "source": [
    "# CryptoCompare API"
   ]
  },
  {
   "cell_type": "code",
   "execution_count": 1,
   "metadata": {},
   "outputs": [],
   "source": [
    "import requests\n",
    "import datetime\n",
    "import pandas as pd"
   ]
  },
  {
   "cell_type": "code",
   "execution_count": 2,
   "metadata": {},
   "outputs": [],
   "source": [
    "import matplotlib.pyplot as plt\n",
    "%matplotlib inline\n",
    "plt.style.use('fivethirtyeight')\n",
    "from pylab import rcParams"
   ]
  },
  {
   "cell_type": "markdown",
   "metadata": {},
   "source": [
    "## Current Price"
   ]
  },
  {
   "cell_type": "code",
   "execution_count": 3,
   "metadata": {},
   "outputs": [],
   "source": [
    "def price(symbol, comparison_symbols=['USD'], exchange=''):\n",
    "    url = 'https://min-api.cryptocompare.com/data/price?fsym={}&tsyms={}'\\\n",
    "            .format(symbol.upper(), ','.join(comparison_symbols).upper())\n",
    "    if exchange:\n",
    "        url += '&e={}'.format(exchange)\n",
    "    page = requests.get(url)\n",
    "    data = page.json()\n",
    "    return data"
   ]
  },
  {
   "cell_type": "code",
   "execution_count": 4,
   "metadata": {},
   "outputs": [
    {
     "data": {
      "text/plain": [
       "{'USD': 3412.01}"
      ]
     },
     "execution_count": 4,
     "metadata": {},
     "output_type": "execute_result"
    }
   ],
   "source": [
    "price('BTC', exchange='Coinbase')"
   ]
  },
  {
   "cell_type": "code",
   "execution_count": 5,
   "metadata": {},
   "outputs": [
    {
     "data": {
      "text/plain": [
       "{'BTC': 0.00176, 'ETH': 0.06719, 'USD': 6.19}"
      ]
     },
     "execution_count": 5,
     "metadata": {},
     "output_type": "execute_result"
    }
   ],
   "source": [
    "price('NEO', ['BTC', 'ETH', 'USD'])"
   ]
  },
  {
   "cell_type": "markdown",
   "metadata": {},
   "source": [
    "## Historical Price by Minute"
   ]
  },
  {
   "cell_type": "code",
   "execution_count": 6,
   "metadata": {},
   "outputs": [],
   "source": [
    "def minute_price_historical(symbol, comparison_symbol, limit, aggregate, exchange=''):\n",
    "    url = 'https://min-api.cryptocompare.com/data/histominute?fsym={}&tsym={}&limit={}&aggregate={}'\\\n",
    "            .format(symbol.upper(), comparison_symbol.upper(), limit, aggregate)\n",
    "    if exchange:\n",
    "        url += '&e={}'.format(exchange)\n",
    "    page = requests.get(url)\n",
    "    data = page.json()['Data']\n",
    "    df = pd.DataFrame(data)\n",
    "    df['timestamp'] = [datetime.datetime.fromtimestamp(d) for d in df.time]\n",
    "    return df"
   ]
  },
  {
   "cell_type": "code",
   "execution_count": 7,
   "metadata": {},
   "outputs": [
    {
     "name": "stdout",
     "output_type": "stream",
     "text": [
      "Max length = 31\n",
      "Max time = 0 days 00:30:00\n"
     ]
    }
   ],
   "source": [
    "time_delta = 1 #in minutes (сhoose cryptocurrency and minutes intervsl)\n",
    "df = minute_price_historical('BTC', 'USD', 30, time_delta)\n",
    "print('Max length = %s' % len(df))\n",
    "print('Max time = %s' % (df.timestamp.max() - df.timestamp.min()))"
   ]
  },
  {
   "cell_type": "code",
   "execution_count": 8,
   "metadata": {
    "scrolled": true
   },
   "outputs": [
    {
     "data": {
      "text/html": [
       "<div>\n",
       "<style scoped>\n",
       "    .dataframe tbody tr th:only-of-type {\n",
       "        vertical-align: middle;\n",
       "    }\n",
       "\n",
       "    .dataframe tbody tr th {\n",
       "        vertical-align: top;\n",
       "    }\n",
       "\n",
       "    .dataframe thead th {\n",
       "        text-align: right;\n",
       "    }\n",
       "</style>\n",
       "<table border=\"1\" class=\"dataframe\">\n",
       "  <thead>\n",
       "    <tr style=\"text-align: right;\">\n",
       "      <th></th>\n",
       "      <th>close</th>\n",
       "      <th>high</th>\n",
       "      <th>low</th>\n",
       "      <th>open</th>\n",
       "      <th>time</th>\n",
       "      <th>volumefrom</th>\n",
       "      <th>volumeto</th>\n",
       "      <th>timestamp</th>\n",
       "    </tr>\n",
       "  </thead>\n",
       "  <tbody>\n",
       "    <tr>\n",
       "      <th>0</th>\n",
       "      <td>3473.27</td>\n",
       "      <td>3478.92</td>\n",
       "      <td>3473.27</td>\n",
       "      <td>3478.81</td>\n",
       "      <td>1544482800</td>\n",
       "      <td>97.18</td>\n",
       "      <td>337404.33</td>\n",
       "      <td>2018-12-11 01:00:00</td>\n",
       "    </tr>\n",
       "    <tr>\n",
       "      <th>1</th>\n",
       "      <td>3471.51</td>\n",
       "      <td>3473.27</td>\n",
       "      <td>3467.56</td>\n",
       "      <td>3473.27</td>\n",
       "      <td>1544482860</td>\n",
       "      <td>62.10</td>\n",
       "      <td>215725.86</td>\n",
       "      <td>2018-12-11 01:01:00</td>\n",
       "    </tr>\n",
       "    <tr>\n",
       "      <th>2</th>\n",
       "      <td>3469.56</td>\n",
       "      <td>3471.51</td>\n",
       "      <td>3467.79</td>\n",
       "      <td>3471.51</td>\n",
       "      <td>1544482920</td>\n",
       "      <td>39.09</td>\n",
       "      <td>136373.92</td>\n",
       "      <td>2018-12-11 01:02:00</td>\n",
       "    </tr>\n",
       "    <tr>\n",
       "      <th>3</th>\n",
       "      <td>3469.78</td>\n",
       "      <td>3470.36</td>\n",
       "      <td>3469.56</td>\n",
       "      <td>3469.56</td>\n",
       "      <td>1544482980</td>\n",
       "      <td>9.54</td>\n",
       "      <td>32987.90</td>\n",
       "      <td>2018-12-11 01:03:00</td>\n",
       "    </tr>\n",
       "    <tr>\n",
       "      <th>4</th>\n",
       "      <td>3469.73</td>\n",
       "      <td>3470.83</td>\n",
       "      <td>3469.57</td>\n",
       "      <td>3469.78</td>\n",
       "      <td>1544483040</td>\n",
       "      <td>11.60</td>\n",
       "      <td>41646.91</td>\n",
       "      <td>2018-12-11 01:04:00</td>\n",
       "    </tr>\n",
       "  </tbody>\n",
       "</table>\n",
       "</div>"
      ],
      "text/plain": [
       "     close     high      low     open        time  volumefrom   volumeto  \\\n",
       "0  3473.27  3478.92  3473.27  3478.81  1544482800       97.18  337404.33   \n",
       "1  3471.51  3473.27  3467.56  3473.27  1544482860       62.10  215725.86   \n",
       "2  3469.56  3471.51  3467.79  3471.51  1544482920       39.09  136373.92   \n",
       "3  3469.78  3470.36  3469.56  3469.56  1544482980        9.54   32987.90   \n",
       "4  3469.73  3470.83  3469.57  3469.78  1544483040       11.60   41646.91   \n",
       "\n",
       "            timestamp  \n",
       "0 2018-12-11 01:00:00  \n",
       "1 2018-12-11 01:01:00  \n",
       "2 2018-12-11 01:02:00  \n",
       "3 2018-12-11 01:03:00  \n",
       "4 2018-12-11 01:04:00  "
      ]
     },
     "execution_count": 8,
     "metadata": {},
     "output_type": "execute_result"
    }
   ],
   "source": [
    "df.head()"
   ]
  },
  {
   "cell_type": "code",
   "execution_count": 10,
   "metadata": {},
   "outputs": [
    {
     "data": {
      "text/html": [
       "<div>\n",
       "<style scoped>\n",
       "    .dataframe tbody tr th:only-of-type {\n",
       "        vertical-align: middle;\n",
       "    }\n",
       "\n",
       "    .dataframe tbody tr th {\n",
       "        vertical-align: top;\n",
       "    }\n",
       "\n",
       "    .dataframe thead th {\n",
       "        text-align: right;\n",
       "    }\n",
       "</style>\n",
       "<table border=\"1\" class=\"dataframe\">\n",
       "  <thead>\n",
       "    <tr style=\"text-align: right;\">\n",
       "      <th></th>\n",
       "      <th>close</th>\n",
       "      <th>high</th>\n",
       "      <th>low</th>\n",
       "      <th>open</th>\n",
       "      <th>time</th>\n",
       "      <th>volumefrom</th>\n",
       "      <th>volumeto</th>\n",
       "      <th>timestamp</th>\n",
       "    </tr>\n",
       "  </thead>\n",
       "  <tbody>\n",
       "    <tr>\n",
       "      <th>26</th>\n",
       "      <td>3471.44</td>\n",
       "      <td>3474.21</td>\n",
       "      <td>3471.44</td>\n",
       "      <td>3474.10</td>\n",
       "      <td>1544484360</td>\n",
       "      <td>27.74</td>\n",
       "      <td>95722.54</td>\n",
       "      <td>2018-12-11 01:26:00</td>\n",
       "    </tr>\n",
       "    <tr>\n",
       "      <th>27</th>\n",
       "      <td>3470.12</td>\n",
       "      <td>3472.28</td>\n",
       "      <td>3469.76</td>\n",
       "      <td>3471.44</td>\n",
       "      <td>1544484420</td>\n",
       "      <td>12.27</td>\n",
       "      <td>42303.74</td>\n",
       "      <td>2018-12-11 01:27:00</td>\n",
       "    </tr>\n",
       "    <tr>\n",
       "      <th>28</th>\n",
       "      <td>3467.98</td>\n",
       "      <td>3470.20</td>\n",
       "      <td>3466.93</td>\n",
       "      <td>3470.12</td>\n",
       "      <td>1544484480</td>\n",
       "      <td>41.38</td>\n",
       "      <td>141876.58</td>\n",
       "      <td>2018-12-11 01:28:00</td>\n",
       "    </tr>\n",
       "    <tr>\n",
       "      <th>29</th>\n",
       "      <td>3468.98</td>\n",
       "      <td>3469.53</td>\n",
       "      <td>3467.98</td>\n",
       "      <td>3467.98</td>\n",
       "      <td>1544484540</td>\n",
       "      <td>2.01</td>\n",
       "      <td>6943.71</td>\n",
       "      <td>2018-12-11 01:29:00</td>\n",
       "    </tr>\n",
       "    <tr>\n",
       "      <th>30</th>\n",
       "      <td>3465.75</td>\n",
       "      <td>3468.98</td>\n",
       "      <td>3465.75</td>\n",
       "      <td>3468.98</td>\n",
       "      <td>1544484600</td>\n",
       "      <td>0.00</td>\n",
       "      <td>0.00</td>\n",
       "      <td>2018-12-11 01:30:00</td>\n",
       "    </tr>\n",
       "  </tbody>\n",
       "</table>\n",
       "</div>"
      ],
      "text/plain": [
       "      close     high      low     open        time  volumefrom   volumeto  \\\n",
       "26  3471.44  3474.21  3471.44  3474.10  1544484360       27.74   95722.54   \n",
       "27  3470.12  3472.28  3469.76  3471.44  1544484420       12.27   42303.74   \n",
       "28  3467.98  3470.20  3466.93  3470.12  1544484480       41.38  141876.58   \n",
       "29  3468.98  3469.53  3467.98  3467.98  1544484540        2.01    6943.71   \n",
       "30  3465.75  3468.98  3465.75  3468.98  1544484600        0.00       0.00   \n",
       "\n",
       "             timestamp  \n",
       "26 2018-12-11 01:26:00  \n",
       "27 2018-12-11 01:27:00  \n",
       "28 2018-12-11 01:28:00  \n",
       "29 2018-12-11 01:29:00  \n",
       "30 2018-12-11 01:30:00  "
      ]
     },
     "execution_count": 10,
     "metadata": {},
     "output_type": "execute_result"
    }
   ],
   "source": [
    "df.tail()"
   ]
  },
  {
   "cell_type": "code",
   "execution_count": 9,
   "metadata": {},
   "outputs": [
    {
     "data": {
      "image/png": "[encoded data removed]",
      "text/plain": [
       "<matplotlib.figure.Figure at 0x7ff7e27d1898>"
      ]
     },
     "metadata": {},
     "output_type": "display_data"
    }
   ],
   "source": [
    "rcParams['figure.figsize'] = 15, 4\n",
    "plt.plot(df.timestamp, df.close)\n",
    "plt.xticks(rotation=45)\n",
    "plt.show()"
   ]
  }
 ],
 "metadata": {
  "anaconda-cloud": {},
  "kernelspec": {
   "display_name": "Python 3",
   "language": "python",
   "name": "python3"
  },
  "language_info": {
   "codemirror_mode": {
    "name": "ipython",
    "version": 3
   },
   "file_extension": ".py",
   "mimetype": "text/x-python",
   "name": "python",
   "nbconvert_exporter": "python",
   "pygments_lexer": "ipython3",
   "version": "3.5.2"
  }
 },
 "nbformat": 4,
 "nbformat_minor": 1
}
